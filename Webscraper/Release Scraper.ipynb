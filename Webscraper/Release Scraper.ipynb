{
 "cells": [
  {
   "cell_type": "code",
   "execution_count": null,
   "id": "0ca3ed68",
   "metadata": {},
   "outputs": [],
   "source": [
    "import requests\n",
    "from bs4 import BeautifulSoup as BS"
   ]
  },
  {
   "cell_type": "code",
   "execution_count": null,
   "id": "87aeb11d",
   "metadata": {},
   "outputs": [],
   "source": [
    "! pip install webdriver-manager"
   ]
  },
  {
   "cell_type": "code",
   "execution_count": null,
   "id": "a98dcc3c",
   "metadata": {},
   "outputs": [],
   "source": [
    "! pip install cloudscraper"
   ]
  },
  {
   "cell_type": "code",
   "execution_count": null,
   "id": "07036c4f",
   "metadata": {},
   "outputs": [],
   "source": [
    "! pip install undetected-chromedriver"
   ]
  },
  {
   "cell_type": "markdown",
   "id": "e8ae36c9",
   "metadata": {},
   "source": [
    "# Cover url: Spotify API"
   ]
  },
  {
   "cell_type": "code",
   "execution_count": null,
   "id": "452432b0",
   "metadata": {},
   "outputs": [
    {
     "name": "stdout",
     "output_type": "stream",
     "text": [
      "https://i.scdn.co/image/ab67616d00001e02d27b5404a8aa5b94856e24cc\n"
     ]
    }
   ],
   "source": [
    "import requests\n",
    "\n",
    "url = \"https://spotify23.p.rapidapi.com/search/\"\n",
    "\n",
    "querystring = {\"type\":\"multi\",\"offset\":\"0\",\"limit\":\"10\",\"numberOfTopResults\":\"5\", \"q\":\"smells like teen spirit\"}\n",
    "\n",
    "headers = {\n",
    "\t\"x-rapidapi-key\": \"00f8a3d412mshae13d562b6987c6p169362jsn20c5892a8c91\",\n",
    "\t\"x-rapidapi-host\": \"spotify23.p.rapidapi.com\"\n",
    "}\n",
    "\n",
    "response = requests.get(url, headers=headers, params=querystring)\n",
    "\n",
    "REP = response.json()\n",
    "\n",
    "print(REP[\"albums\"][\"items\"][0][\"data\"][\"coverArt\"][\"sources\"][0][\"url\"])"
   ]
  },
  {
   "cell_type": "markdown",
   "id": "4205ce99",
   "metadata": {},
   "source": [
    "# RateYourMusic Webscraper"
   ]
  },
  {
   "cell_type": "code",
   "execution_count": null,
   "id": "5eb4b833",
   "metadata": {},
   "outputs": [
    {
     "name": "stdout",
     "output_type": "stream",
     "text": [
      "[<a class=\"album newreleases_item_title\" href=\"/release/album/deafheaven/lonely-people-with-power/\" title=\"[Album16289802]\">Lonely People With Power</a>, <a class=\"album newreleases_item_title\" href=\"/release/album/huremic/seeking-darkness/\" title=\"[Album16364669]\">Seeking Darkness</a>, <a class=\"album newreleases_item_title\" href=\"/release/album/black-country-new-road/forever-howlong/\" title=\"[Album16293432]\">Forever Howlong</a>, <a class=\"album newreleases_item_title\" href=\"/release/album/weatherday/hornet-disaster/\" title=\"[Album16126503]\">Hornet Disaster</a>, <a class=\"album newreleases_item_title\" href=\"/release/album/clipping/dead-channel-sky/\" title=\"[Album16251500]\">Dead Channel Sky</a>, <a class=\"album newreleases_item_title\" href=\"/release/album/jane-remover/revengeseekerz/\" title=\"[Album16240403]\">Revengeseekerz</a>, <a class=\"album newreleases_item_title\" href=\"/release/album/playboi-carti/music/\" title=\"[Album16032053]\">Music</a>, <a class=\"album newreleases_item_title\" href=\"/release/album/skrillex/f_ck-u-skrillex-you-think-ur-andy-warhol-but-ur-not-3/\" title=\"[Album16402519]\">F*ck U Skrillex You Think Ur Andy Warhol But Ur Not!! &lt;3</a>, <a class=\"album newreleases_item_title\" href=\"/release/album/los-thuthanaka/los-thuthanaka/\" title=\"[Album16383741]\">Los Thuthanaka</a>, <a class=\"album newreleases_item_title\" href=\"/release/album/lady-gaga/mayhem/\" title=\"[Album16289651]\">Mayhem</a>, <a class=\"album newreleases_item_title\" href=\"/release/album/backxwash/only-dust-remains/\" title=\"[Album16291581]\">Only Dust Remains</a>, <a class=\"album newreleases_item_title\" href=\"/release/album/imperial-triumphant/goldstar/\" title=\"[Album16153759]\">Goldstar</a>, <a class=\"album newreleases_item_title\" href=\"/release/album/perfume-genius/glory/\" title=\"[Album16266770]\">Glory</a>, <a class=\"album newreleases_item_title\" href=\"/release/album/steven-wilson/the-overview/\" title=\"[Album15922481]\">The Overview</a>, <a class=\"album newreleases_item_title\" href=\"/release/mixtape/ghost-mountain/october-country/\" title=\"[Album16293878]\">October Country</a>, <a class=\"album newreleases_item_title\" href=\"/release/album/spellling/portrait-of-my-heart/\" title=\"[Album16228670]\">Portrait of My Heart</a>, <a class=\"album newreleases_item_title\" href=\"/release/album/yhwh-nailgun/45-pounds/\" title=\"[Album16304014]\">45 Pounds</a>, <a class=\"album newreleases_item_title\" href=\"/release/album/japanese-breakfast/for-melancholy-brunettes-and-sad-women/\" title=\"[Album16249687]\">For Melancholy Brunettes (&amp; Sad Women)</a>, <a class=\"album newreleases_item_title\" href=\"/release/album/destroyer/dans-boogie/\" title=\"[Album16251356]\">Dan's Boogie</a>, <a class=\"album newreleases_item_title\" href=\"/release/album/panchiko/ginkgo/\" title=\"[Album16156540]\">Ginkgo</a>, <a class=\"album newreleases_item_title\" href=\"/release/album/jason-isbell/foxes-in-the-snow/\" title=\"[Album16264874]\">Foxes in the Snow</a>, <a class=\"album newreleases_item_title\" href=\"/release/album/bon-iver/sable-fable/\" title=\"[Album16316075]\">SABLE, fABLE</a>, <a class=\"album newreleases_item_title\" href=\"/release/album/jefre-cantu-ledesma/gift-songs/\" title=\"[Album16305184]\">Gift Songs</a>, <a class=\"album newreleases_item_title\" href=\"/release/album/saba-no-i_d/from-the-private-collection-of-saba-and-no-id/\" title=\"[Album15300005]\">From the Private Collection of Saba and No ID</a>, <a class=\"album newreleases_item_title\" href=\"/release/ep/nmixx/fe3o4-forward/\" title=\"[Album16327625]\">Fe3O4: FORWARD</a>]\n"
     ]
    }
   ],
   "source": [
    "import undetected_chromedriver as uc\n",
    "from bs4 import BeautifulSoup as BS\n",
    "import time\n",
    "\n",
    "options = uc.ChromeOptions()\n",
    "options.add_argument(\"--no-sandbox\")\n",
    "options.add_argument(\"--disable-blink-features=AutomationControlled\")\n",
    "\n",
    "driver = uc.Chrome(version_main=134, options=options)\n",
    "\n",
    "driver.get(\"https://rateyourmusic.com/new-music/\")\n",
    "time.sleep(30)  # let Cloudflare challenge pass\n",
    "\n",
    "html = driver.page_source\n",
    "\n",
    "soup = BS(html, \"lxml\")\n",
    "BSR = soup.prettify()\n",
    "\n",
    "Allrelease = soup.find_all(\"a\", {\"class\": \"album newreleases_item_title\"})\n",
    "print(Allrelease)"
   ]
  },
  {
   "cell_type": "code",
   "execution_count": null,
   "id": "ad23d658",
   "metadata": {},
   "outputs": [],
   "source": []
  }
 ],
 "metadata": {
  "kernelspec": {
   "display_name": "base",
   "language": "python",
   "name": "python3"
  },
  "language_info": {
   "codemirror_mode": {
    "name": "ipython",
    "version": 3
   },
   "file_extension": ".py",
   "mimetype": "text/x-python",
   "name": "python",
   "nbconvert_exporter": "python",
   "pygments_lexer": "ipython3",
   "version": "3.12.7"
  }
 },
 "nbformat": 4,
 "nbformat_minor": 5
}
